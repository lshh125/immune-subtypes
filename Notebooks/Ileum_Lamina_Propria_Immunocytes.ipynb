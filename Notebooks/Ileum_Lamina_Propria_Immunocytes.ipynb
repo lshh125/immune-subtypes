{
  "nbformat": 4,
  "nbformat_minor": 0,
  "metadata": {
    "colab": {
      "name": "Ileum Lamina Propria Immunocytes.ipynb",
      "provenance": [],
      "collapsed_sections": [],
      "authorship_tag": "ABX9TyNpGpaXArkN7WngvxmxZWF+",
      "include_colab_link": true
    },
    "kernelspec": {
      "name": "python3",
      "display_name": "Python 3"
    }
  },
  "cells": [
    {
      "cell_type": "markdown",
      "metadata": {
        "id": "view-in-github",
        "colab_type": "text"
      },
      "source": [
        "<a href=\"https://colab.research.google.com/github/lshh125/immune-subtypes/blob/master/Notebooks/Ileum_Lamina_Propria_Immunocytes.ipynb\" target=\"_parent\"><img src=\"https://colab.research.google.com/assets/colab-badge.svg\" alt=\"Open In Colab\"/></a>"
      ]
    },
    {
      "cell_type": "markdown",
      "metadata": {
        "id": "1P0b_Z2bugKF",
        "colab_type": "text"
      },
      "source": [
        "# Prepare packages"
      ]
    },
    {
      "cell_type": "code",
      "metadata": {
        "id": "Kw2_Fu-uuTNp",
        "colab_type": "code",
        "colab": {}
      },
      "source": [
        ""
      ],
      "execution_count": 0,
      "outputs": []
    }
  ]
}